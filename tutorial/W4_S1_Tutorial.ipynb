{
  "nbformat": 4,
  "nbformat_minor": 0,
  "metadata": {
    "colab": {
      "provenance": [],
      "mount_file_id": "1aJYuWSrW3vWBQf4zVRVbTf1blE9-ygAj",
      "authorship_tag": "ABX9TyNSfSIxXh6p5/SnbqBxLzMf",
      "include_colab_link": true
    },
    "kernelspec": {
      "name": "python3",
      "display_name": "Python 3"
    },
    "language_info": {
      "name": "python"
    }
  },
  "cells": [
    {
      "cell_type": "markdown",
      "metadata": {
        "id": "view-in-github",
        "colab_type": "text"
      },
      "source": [
        "<a href=\"https://colab.research.google.com/github/freddy0218/2022_ML_Earth_Env_Sci/blob/main/tutorial/W4_S1_Tutorial.ipynb\" target=\"_parent\"><img src=\"https://colab.research.google.com/assets/colab-badge.svg\" alt=\"Open In Colab\"/></a>"
      ]
    },
    {
      "cell_type": "markdown",
      "source": [
        "## **Linear Regression**\n",
        "One of the statistical method that can be useful in many data analysis settings is regression. \n",
        "\n",
        "Regression problems can be conceptualize with the following simple scenario: Assuming you have some measurements of how one physical property relates to another physical property in real life.\n",
        "\n",
        "Reference: \n",
        "1. Machine Learning Foundations and Practice (CS345_Colorado State University)"
      ],
      "metadata": {
        "id": "HiZkD3R1y48S"
      }
    },
    {
      "cell_type": "markdown",
      "source": [
        "Let's create some fake data!"
      ],
      "metadata": {
        "id": "jVjjlcdR0-Kr"
      }
    },
    {
      "cell_type": "code",
      "source": [
        "import numpy as np\n",
        "from numpy.random import default_rng\n",
        "import matplotlib.pyplot as plt"
      ],
      "metadata": {
        "id": "lQGM5Hry037X"
      },
      "execution_count": 1,
      "outputs": []
    },
    {
      "cell_type": "code",
      "source": [
        "seed = 40001\n",
        "rng = default_rng(seed)\n",
        "x = 10*rng.random(50)\n",
        "y = 2 * x - 5 + rng.standard_normal(50)*2.5"
      ],
      "metadata": {
        "id": "tjCxCzeC1KY9"
      },
      "execution_count": 2,
      "outputs": []
    },
    {
      "cell_type": "markdown",
      "source": [
        "Just now we created 50 random data points in one physical dimension (X), we assumed that the measurements in the X dimension relates to another dimension (Y) with the following equation:\n",
        "$y = 2x-5$\n",
        "\n",
        "To mimic real observations, we add some random uncertainties so that these \"observations\" would not exactly follow the equation.\n",
        "\n",
        "Now let's see how the fake data looks like!"
      ],
      "metadata": {
        "id": "Emp3Zmlh1lf_"
      }
    },
    {
      "cell_type": "code",
      "source": [
        "plt.scatter(x,y)\n",
        "plt.show()"
      ],
      "metadata": {
        "colab": {
          "base_uri": "https://localhost:8080/",
          "height": 265
        },
        "id": "1NqL-bHj08pS",
        "outputId": "c1ef5f89-bdce-4bbf-f40f-39cad9175a61"
      },
      "execution_count": 3,
      "outputs": [
        {
          "output_type": "display_data",
          "data": {
            "text/plain": [
              "<Figure size 432x288 with 1 Axes>"
            ],
            "image/png": "[encoded data removed]"
          },
          "metadata": {
            "needs_background": "light"
          }
        }
      ]
    },
    {
      "cell_type": "markdown",
      "source": [
        "If we have a data that only has information for the X coordinate, and we assume the underlying relationship between Y and X still holds, we can get plug in the observed X into the equation to get the corresponding Y value!\n",
        "\n",
        "But how do you find $y = 2x-5$ just from the data? This is where **regression** comes in. "
      ],
      "metadata": {
        "id": "szkdvm6BEVIm"
      }
    },
    {
      "cell_type": "markdown",
      "source": [
        "In one dimension, linear regression takes the following form:\n",
        "\n",
        "$$\n",
        "\\large\n",
        "y =  wx + b\n",
        "$$\n",
        "\n",
        "$w$ and $b$ are the **model parameters** we would like to optimize based on the data we currently have. As soon as we get the equation, we can use it to make predictions on new data (e.g., the examples we just discussed)\n",
        "\n",
        "Fortunately, we do not need to code the model optimization and parameters finding procedure from scratch! We can just use the pre-packaged sklearn [LinearRegression](https://scikit-learn.org/stable/modules/generated/sklearn.linear_model.LinearRegression.html) functions instead. \n",
        "\n",
        "Let's try it out!"
      ],
      "metadata": {
        "id": "DCZWJYijFn6t"
      }
    },
    {
      "cell_type": "code",
      "source": [
        "from sklearn.linear_model import LinearRegression\n",
        "\n",
        "# instantiate, fit, and predict:\n",
        "# (Reshape your data either using array.reshape(-1, 1) if your data has a single feature or array.reshape(1, -1) if it contains a single sample.)\n",
        "linreg = LinearRegression()\n",
        "linreg.fit(x.reshape(-1,1), y.reshape(-1,1))\n",
        "y_pred = linreg.predict(x.reshape(-1,1))\n",
        "\n",
        "# plot the reslts\n",
        "plt.scatter(x, y,  color='blue', alpha=0.5, label = 'data')\n",
        "plt.plot(x, y_pred, color='black', alpha=0.8,linewidth=2, label = 'model')\n",
        "plt.legend(loc=\"best\")\n",
        "plt.show()"
      ],
      "metadata": {
        "colab": {
          "base_uri": "https://localhost:8080/",
          "height": 265
        },
        "id": "ez00hK7KG9KY",
        "outputId": "6d906e98-e762-414a-dbe1-613616034a19"
      },
      "execution_count": 4,
      "outputs": [
        {
          "output_type": "display_data",
          "data": {
            "text/plain": [
              "<Figure size 432x288 with 1 Axes>"
            ],
            "image/png": "[encoded data removed]"
          },
          "metadata": {
            "needs_background": "light"
          }
        }
      ]
    },
    {
      "cell_type": "markdown",
      "source": [
        "This is what the optimized parameters look like. The values are not exactly what we defined originally, but it's in the same ballpark."
      ],
      "metadata": {
        "id": "5VbTvzbXORPz"
      }
    },
    {
      "cell_type": "code",
      "source": [
        "#print(f\"Model Prediction:{linreg.predict(np.asarray(2).reshape(1,-1))}\")\n",
        "#print(f\"Real:{2*2-5}\")\n",
        "print(f\"w:{np.round(float(linreg.coef_),decimals=2)},b:{np.round(float(linreg.intercept_),decimals=2)}\")"
      ],
      "metadata": {
        "colab": {
          "base_uri": "https://localhost:8080/"
        },
        "id": "8p1obDfpOZdF",
        "outputId": "c559bc4e-3221-4359-b171-b1dbcd5af8b2"
      },
      "execution_count": 5,
      "outputs": [
        {
          "output_type": "stream",
          "name": "stdout",
          "text": [
            "w:1.84,b:-4.44\n"
          ]
        }
      ]
    },
    {
      "cell_type": "markdown",
      "source": [
        "One way to get a more accurate model is to obtain more data. Observe the model parameters are way more accurate when we use 10000 data points to train the regression model."
      ],
      "metadata": {
        "id": "rOUo_J-6QZl_"
      }
    },
    {
      "cell_type": "code",
      "source": [
        "seed = 40001\n",
        "rng = default_rng(seed)\n",
        "x = 10*rng.random(10000)\n",
        "y = 2 * x - 5 + rng.standard_normal(10000)*2.5\n",
        "linregN = LinearRegression()\n",
        "linregN.fit(x.reshape(-1,1), y.reshape(-1,1))\n",
        "print(f\"w:{np.round(float(linregN.coef_),decimals=2)},b:{np.round(float(linregN.intercept_),decimals=2)}\")"
      ],
      "metadata": {
        "colab": {
          "base_uri": "https://localhost:8080/"
        },
        "id": "CockODwdQLlq",
        "outputId": "0ccf020d-7063-4b5c-8948-c7d445e03a8c"
      },
      "execution_count": 6,
      "outputs": [
        {
          "output_type": "stream",
          "name": "stdout",
          "text": [
            "w:2.0,b:-4.97\n"
          ]
        }
      ]
    },
    {
      "cell_type": "markdown",
      "source": [
        "How are the model parameters derived? In the scikit-learn package, the least-squared method is used.\n",
        "\n",
        "The parameters $(w,b)$ are chosen as to minimize the sum-squared error:\n",
        "$$\n",
        "J( w,b ) = \\sum_{i=1}^N (y_i - \\hat{y}_i)^2,\n",
        "$$\n",
        "\n",
        "where $y_i$ are the known labels and $\\hat{y}_i = w x_i + b$ are the predicted labels. So the function actually repeats the model prediction multiple times with different `w` and `b`, and ultimately settles on the combination that minimizes the `J`."
      ],
      "metadata": {
        "id": "GgQK92OpT09a"
      }
    },
    {
      "cell_type": "markdown",
      "source": [
        "### **Exercise: Multivariate Linear Regression**\n",
        "What if our dataset has multiple dimensions and we want to find equations that looks something like this?\n",
        "$$\n",
        "y = w_1 x_1 + w_2 x_2 + w_3 x_3 + ... + b\n",
        "$$\n",
        "\n",
        "Here we show how we would do it with scikit-learn to find a linear equation that describes the Kaggle [Advertising dataset](https://www.kaggle.com/datasets/bumba5341/advertisingcsv?resource=download)"
      ],
      "metadata": {
        "id": "gclOJK4QU4di"
      }
    },
    {
      "cell_type": "markdown",
      "source": [
        "**Q1: Use pandas to import the advertising dataset**"
      ],
      "metadata": {
        "id": "cv-I6y_2jT9c"
      }
    },
    {
      "cell_type": "code",
      "source": [
        "import pandas\n",
        "\n",
        "# Q1a: Use pandas to import the dataset\n",
        "__ = pandas.__(_,_)\n",
        "# Q1b: Display the first rows of the data with pandas\n",
        "__.__()"
      ],
      "metadata": {
        "id": "veXW7wB9hz9b"
      },
      "execution_count": null,
      "outputs": []
    },
    {
      "cell_type": "code",
      "source": [
        "#@title Answers\n",
        "# Import a dataset of advertising spends\n",
        "advert = pandas.read_csv('myadvertising.csv', index_col=0)\n",
        "\n",
        "# Display the first five rows of the data\n",
        "advert.head()"
      ],
      "metadata": {
        "id": "9rOSUVCWVdvG",
        "colab": {
          "base_uri": "https://localhost:8080/",
          "height": 204
        },
        "outputId": "9e0bcf6e-bfe1-43b3-d7ee-4f20b3225b8e"
      },
      "execution_count": 12,
      "outputs": [
        {
          "output_type": "execute_result",
          "data": {
            "text/plain": [
              "      TV  Radio  Newspaper  Sales\n",
              "1  230.1   37.8       69.2   22.1\n",
              "2   44.5   39.3       45.1   10.4\n",
              "3   17.2   45.9       69.3    9.3\n",
              "4  151.5   41.3       58.5   18.5\n",
              "5  180.8   10.8       58.4   12.9"
            ],
            "text/html": [
              "\n",
              "  <div id=\"df-56917c97-51b5-4155-b873-85a3fbc53130\">\n",
              "    <div class=\"colab-df-container\">\n",
              "      <div>\n",
              "<style scoped>\n",
              "    .dataframe tbody tr th:only-of-type {\n",
              "        vertical-align: middle;\n",
              "    }\n",
              "\n",
              "    .dataframe tbody tr th {\n",
              "        vertical-align: top;\n",
              "    }\n",
              "\n",
              "    .dataframe thead th {\n",
              "        text-align: right;\n",
              "    }\n",
              "</style>\n",
              "<table border=\"1\" class=\"dataframe\">\n",
              "  <thead>\n",
              "    <tr style=\"text-align: right;\">\n",
              "      <th></th>\n",
              "      <th>TV</th>\n",
              "      <th>Radio</th>\n",
              "      <th>Newspaper</th>\n",
              "      <th>Sales</th>\n",
              "    </tr>\n",
              "  </thead>\n",
              "  <tbody>\n",
              "    <tr>\n",
              "      <th>1</th>\n",
              "      <td>230.1</td>\n",
              "      <td>37.8</td>\n",
              "      <td>69.2</td>\n",
              "      <td>22.1</td>\n",
              "    </tr>\n",
              "    <tr>\n",
              "      <th>2</th>\n",
              "      <td>44.5</td>\n",
              "      <td>39.3</td>\n",
              "      <td>45.1</td>\n",
              "      <td>10.4</td>\n",
              "    </tr>\n",
              "    <tr>\n",
              "      <th>3</th>\n",
              "      <td>17.2</td>\n",
              "      <td>45.9</td>\n",
              "      <td>69.3</td>\n",
              "      <td>9.3</td>\n",
              "    </tr>\n",
              "    <tr>\n",
              "      <th>4</th>\n",
              "      <td>151.5</td>\n",
              "      <td>41.3</td>\n",
              "      <td>58.5</td>\n",
              "      <td>18.5</td>\n",
              "    </tr>\n",
              "    <tr>\n",
              "      <th>5</th>\n",
              "      <td>180.8</td>\n",
              "      <td>10.8</td>\n",
              "      <td>58.4</td>\n",
              "      <td>12.9</td>\n",
              "    </tr>\n",
              "  </tbody>\n",
              "</table>\n",
              "</div>\n",
              "      <button class=\"colab-df-convert\" onclick=\"convertToInteractive('df-56917c97-51b5-4155-b873-85a3fbc53130')\"\n",
              "              title=\"Convert this dataframe to an interactive table.\"\n",
              "              style=\"display:none;\">\n",
              "        \n",
              "  <svg xmlns=\"http://www.w3.org/2000/svg\" height=\"24px\"viewBox=\"0 0 24 24\"\n",
              "       width=\"24px\">\n",
              "    <path d=\"M0 0h24v24H0V0z\" fill=\"none\"/>\n",
              "    <path d=\"M18.56 5.44l.94 2.06.94-2.06 2.06-.94-2.06-.94-.94-2.06-.94 2.06-2.06.94zm-11 1L8.5 8.5l.94-2.06 2.06-.94-2.06-.94L8.5 2.5l-.94 2.06-2.06.94zm10 10l.94 2.06.94-2.06 2.06-.94-2.06-.94-.94-2.06-.94 2.06-2.06.94z\"/><path d=\"M17.41 7.96l-1.37-1.37c-.4-.4-.92-.59-1.43-.59-.52 0-1.04.2-1.43.59L10.3 9.45l-7.72 7.72c-.78.78-.78 2.05 0 2.83L4 21.41c.39.39.9.59 1.41.59.51 0 1.02-.2 1.41-.59l7.78-7.78 2.81-2.81c.8-.78.8-2.07 0-2.86zM5.41 20L4 18.59l7.72-7.72 1.47 1.35L5.41 20z\"/>\n",
              "  </svg>\n",
              "      </button>\n",
              "      \n",
              "  <style>\n",
              "    .colab-df-container {\n",
              "      display:flex;\n",
              "      flex-wrap:wrap;\n",
              "      gap: 12px;\n",
              "    }\n",
              "\n",
              "    .colab-df-convert {\n",
              "      background-color: #E8F0FE;\n",
              "      border: none;\n",
              "      border-radius: 50%;\n",
              "      cursor: pointer;\n",
              "      display: none;\n",
              "      fill: #1967D2;\n",
              "      height: 32px;\n",
              "      padding: 0 0 0 0;\n",
              "      width: 32px;\n",
              "    }\n",
              "\n",
              "    .colab-df-convert:hover {\n",
              "      background-color: #E2EBFA;\n",
              "      box-shadow: 0px 1px 2px rgba(60, 64, 67, 0.3), 0px 1px 3px 1px rgba(60, 64, 67, 0.15);\n",
              "      fill: #174EA6;\n",
              "    }\n",
              "\n",
              "    [theme=dark] .colab-df-convert {\n",
              "      background-color: #3B4455;\n",
              "      fill: #D2E3FC;\n",
              "    }\n",
              "\n",
              "    [theme=dark] .colab-df-convert:hover {\n",
              "      background-color: #434B5C;\n",
              "      box-shadow: 0px 1px 3px 1px rgba(0, 0, 0, 0.15);\n",
              "      filter: drop-shadow(0px 1px 2px rgba(0, 0, 0, 0.3));\n",
              "      fill: #FFFFFF;\n",
              "    }\n",
              "  </style>\n",
              "\n",
              "      <script>\n",
              "        const buttonEl =\n",
              "          document.querySelector('#df-56917c97-51b5-4155-b873-85a3fbc53130 button.colab-df-convert');\n",
              "        buttonEl.style.display =\n",
              "          google.colab.kernel.accessAllowed ? 'block' : 'none';\n",
              "\n",
              "        async function convertToInteractive(key) {\n",
              "          const element = document.querySelector('#df-56917c97-51b5-4155-b873-85a3fbc53130');\n",
              "          const dataTable =\n",
              "            await google.colab.kernel.invokeFunction('convertToInteractive',\n",
              "                                                     [key], {});\n",
              "          if (!dataTable) return;\n",
              "\n",
              "          const docLinkHtml = 'Like what you see? Visit the ' +\n",
              "            '<a target=\"_blank\" href=https://colab.research.google.com/notebooks/data_table.ipynb>data table notebook</a>'\n",
              "            + ' to learn more about interactive tables.';\n",
              "          element.innerHTML = '';\n",
              "          dataTable['output_type'] = 'display_data';\n",
              "          await google.colab.output.renderOutput(dataTable, element);\n",
              "          const docLink = document.createElement('div');\n",
              "          docLink.innerHTML = docLinkHtml;\n",
              "          element.appendChild(docLink);\n",
              "        }\n",
              "      </script>\n",
              "    </div>\n",
              "  </div>\n",
              "  "
            ]
          },
          "metadata": {},
          "execution_count": 12
        }
      ]
    },
    {
      "cell_type": "markdown",
      "source": [
        "**Q2: Try to use scikit-learn linear regression model to predict \"Sales\" from three columns \"TV\", \"Radio\", \"Newspaper\"**\n",
        "\n",
        "This model will basically tell us how sales would change if we put resources to advertise products in three different medias."
      ],
      "metadata": {
        "id": "nzrLpgXAjLfv"
      }
    },
    {
      "cell_type": "code",
      "source": [
        "from sklearn.____ import ____\n",
        "\n",
        "# Construct Input / Output matrices\n",
        "Xall = __[[_,_,_]].values\n",
        "y = _[].values\n",
        "linreg = ___\n",
        "linreg.__(_,_)"
      ],
      "metadata": {
        "id": "jV5W0Kbbj7-3"
      },
      "execution_count": 12,
      "outputs": []
    },
    {
      "cell_type": "code",
      "source": [
        "#@title Answer\n",
        "from sklearn.linear_model import LinearRegression\n",
        "\n",
        "Xall = advert[['TV', 'Radio', 'Newspaper']].values\n",
        "y    = advert['Sales'].values\n",
        "\n",
        "linreg = LinearRegression(); linreg.fit(Xall, y)"
      ],
      "metadata": {
        "colab": {
          "base_uri": "https://localhost:8080/"
        },
        "id": "uhJvpG1OiU9k",
        "outputId": "05557e0f-93cf-4fa5-a0aa-333e656cef35"
      },
      "execution_count": 13,
      "outputs": [
        {
          "output_type": "execute_result",
          "data": {
            "text/plain": [
              "LinearRegression()"
            ]
          },
          "metadata": {},
          "execution_count": 13
        }
      ]
    },
    {
      "cell_type": "markdown",
      "source": [
        "**Q3: Print out the linear equation coefficients and intercept**"
      ],
      "metadata": {
        "id": "zZBg5Eamke8k"
      }
    },
    {
      "cell_type": "code",
      "source": [
        "cfs = [round(x,_) for x in linreg.____]\n",
        "print(f'Coefficients {cfs}, Intercept {linreg.____:5.2f}' )"
      ],
      "metadata": {
        "id": "mp13ztOPk_4N"
      },
      "execution_count": null,
      "outputs": []
    },
    {
      "cell_type": "code",
      "source": [
        "#@title Answer\n",
        "cfs = [round(x,4) for x in linreg.coef_]\n",
        "print(f'Coefficients {cfs}, Intercept {linreg.intercept_:5.2f}' )"
      ],
      "metadata": {
        "colab": {
          "base_uri": "https://localhost:8080/"
        },
        "id": "0Zn8SZJIkGqI",
        "outputId": "959e801f-0706-40f4-e2b1-d5f7680da4bd"
      },
      "execution_count": 14,
      "outputs": [
        {
          "output_type": "stream",
          "name": "stdout",
          "text": [
            "Coefficients [0.0458, 0.1885, -0.001], Intercept  2.94\n"
          ]
        }
      ]
    }
  ]
}